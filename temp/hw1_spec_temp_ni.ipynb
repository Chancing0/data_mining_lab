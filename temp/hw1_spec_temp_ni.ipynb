{
 "cells": [
  {
   "cell_type": "markdown",
   "metadata": {},
   "source": [
    "## Student Information\n",
    "Name:    \n",
    "Student ID:     \n",
    "GitHub:    "
   ]
  },
  {
   "cell_type": "markdown",
   "metadata": {},
   "source": [
    "---"
   ]
  },
  {
   "cell_type": "markdown",
   "metadata": {},
   "source": [
    "## Instructions\n",
    "\n",
    "In order to learn more and get some inspiration for your final project, we increase the level of homework this year.\n",
    "\n",
    "There are two different parts in your homework 1, please use `jupyter notebook` to edit it. Explain your code and thought with comments and Markdown block. Besides, we hope you can practice to maintain the readability of your own notebook. \n",
    "\n",
    "For students who aren't familiar with Python, we strongly encourage you to discuss with each other. However, <font color=red> copy-paste is strictly  prohibited.</font> You need to absorb and rearrange the idea to help yourself complete the homework.\n",
    "\n",
    "\n"
   ]
  },
  {
   "cell_type": "markdown",
   "metadata": {},
   "source": [
    "## Details\n",
    "\n",
    "### Basic Part (32%)\n",
    "\n",
    "- Review the techniques we learned in the [first lab session](https://goo.gl/Sg4FS1), and attempt the **exercises** provided in it. There are eight (8) additional exercises; attempt them all, as it is part of your grade (5%/per). \n",
    "\n",
    "\n",
    "### Advanced Part (68%) \n",
    "\n",
    "- In this part, we are going to use a new dataset. You can download the dataset provided in this [link](https://archive.ics.uci.edu/ml/datasets/Sentiment+Labelled+Sentences#). The sentiment dataset contains a `sentence` and `score` label. Read what the dataset is about on the link provided before you start exploring it. \n",
    "\n",
    "- You are also expected to tidy up your notebook and attempt new data operations that you have learned so far in the Data Mining course. Surprise us! This segment is worth 38% of your grade and would be much helpful to your final project!  \n",
    "\n",
    "- Here are some examples you can try:\n",
    "    1. Use your creativity to make more data visualization. (not limited in `Matplotlib` & `Seaborn`, can try on `Plotly` library)\n",
    "    2. Use Bag-of-words/TF-IDF to embedding sentences, and compare the result.\n",
    "    3. Calculate the distance/similarity of each sentence, take examples and give some discussion.\n",
    "    4. Try to do some classification or clustering based on your processed data.  \n",
    "       You can find many algorithms in [sklearn](http://scikit-learn.org/stable/user_guide.html), and we recommend you could try on: [Logistic Regression](http://scikit-learn.org/stable/modules/generated/sklearn.linear_model.LogisticRegression.html), [Decision Tree](http://scikit-learn.org/stable/modules/generated/sklearn.tree.DecisionTreeClassifier.html), [Naive Bayes](http://scikit-learn.org/stable/modules/generated/sklearn.naive_bayes.GaussianNB.html), [KMeans](http://scikit-learn.org/stable/modules/generated/sklearn.cluster.KMeans.html).\n",
    "\n",
    "\n",
    "- If you are stuck at the beginning, you could try the data exploration and data operation techniques learned in the [first lab session](https://goo.gl/Sg4FS1). <font color=green >However, only use the techniques in we mention in lab ssesion can't get more than 20%.</font>\n",
    "\n",
    "\n",
    "- You don't need to explain all the procedures as we did in the notebook, but you are expected to provide some **minimal comments** explaining your code. You are also expected to use the same libraries used in the first lab session. You are allowed to use and modify the `helper` functions we provided in the first lab session or create your own. Also, be aware that the helper functions may need modification as you are dealing with a completely different dataset. <font color=green >This part is worth 10% of your grade.</font>\n",
    "\n",
    "\n",
    "\n",
    "### Submit Assignment\n",
    "After completing all the above tasks, please submit your assignment following the guide provided in the `README.md` file of the assignment's [repository](https://github.com/omarsar/data_mining_hw_1). "
   ]
  },
  {
   "cell_type": "code",
   "execution_count": null,
   "metadata": {},
   "outputs": [],
   "source": []
  },
  {
   "cell_type": "code",
   "execution_count": null,
   "metadata": {},
   "outputs": [],
   "source": []
  },
  {
   "cell_type": "markdown",
   "metadata": {},
   "source": [
    "## past versioin\n",
    "\n",
    "### Basic Part (70%)\n",
    "\n",
    "- 1) Download the dataset provided in this [link](https://archive.ics.uci.edu/ml/datasets/Sentiment+Labelled+Sentences#). The sentiment dataset contains a `sentence` and `score` label. Read what the dataset is about on the link provided before you start exploring it. \n",
    "\n",
    "\n",
    "- 2) Then, you are asked to apply each of the data exploration and data operation techniques learned in the [first lab session](https://goo.gl/Sg4FS1) on the new dataset. You don't need to explain all the procedures as we did in the notebook, but you are expected to provide some **minimal comments** explaining your code. You are also expected to use the same libraries used in the first lab session. You are allowed to use and modify the `helper` functions we provided in the first lab session or create your own. Also, be aware that the helper functions may need modification as you are dealing with a completely different dataset. This part is worth (20%) of your grade!\n",
    "\n",
    "\n",
    "- 3) After you have completed the operations, you should attempt the **exercises** `provided in the [notebook](https://goo.gl/Sg4FS1)` we used for the first lab session. There are six (7) additional exercises; attempt them all, as it is part of your grade (35%). \n",
    "\n",
    "\n",
    "### Advanced Part (30%)\n",
    "\n",
    "- You are also expected to tidy up your notebook and attempt new data operations that you have learned so far in the Data Mining course. Surprise us! This segment is worth 30% of your grade and would be much helpful to your final project!  \n",
    "\n",
    "\n",
    "- Here proved some examples you can try:\n",
    "    1. Use your creativity to make more data visualization. (not limited in `Matplotlib` & `Seaborn`, can try on `Plotly` library)\n",
    "    2. Use Bag-of-words/TF-IDF to embedding sentences, and compare the result.\n",
    "    3. Calculate the distance/similarity of each sentence, take examples and give some discussion.\n",
    "    4. Try to do some classification or clustering based on your processed data.  \n",
    "       You can find many algorithms in [sklearn](http://scikit-learn.org/stable/user_guide.html), and we recommend you could try on: [Logistic Regression](http://scikit-learn.org/stable/modules/generated/sklearn.linear_model.LogisticRegression.html), [Decision Tree](http://scikit-learn.org/stable/modules/generated/sklearn.tree.DecisionTreeClassifier.html), [Naive Bayes](http://scikit-learn.org/stable/modules/generated/sklearn.naive_bayes.GaussianNB.html), [KMeans](http://scikit-learn.org/stable/modules/generated/sklearn.cluster.KMeans.html).\n",
    "\n",
    "\n",
    "### Submit Assignment\n",
    "After completing all the above tasks, please submit your assignment following the guide provided in the `README.md` file of the assignment's [repository](https://github.com/omarsar/data_mining_hw_1). "
   ]
  },
  {
   "cell_type": "code",
   "execution_count": null,
   "metadata": {
    "collapsed": true
   },
   "outputs": [],
   "source": []
  }
 ],
 "metadata": {
  "anaconda-cloud": {},
  "kernelspec": {
   "display_name": "Python 3",
   "language": "python",
   "name": "python3"
  },
  "language_info": {
   "codemirror_mode": {
    "name": "ipython",
    "version": 3
   },
   "file_extension": ".py",
   "mimetype": "text/x-python",
   "name": "python",
   "nbconvert_exporter": "python",
   "pygments_lexer": "ipython3",
   "version": "3.6.5"
  }
 },
 "nbformat": 4,
 "nbformat_minor": 2
}
